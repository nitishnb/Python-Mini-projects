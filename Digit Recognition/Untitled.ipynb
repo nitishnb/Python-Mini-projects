{
 "cells": [
  {
   "cell_type": "code",
   "execution_count": 2,
   "metadata": {},
   "outputs": [],
   "source": [
    "import tensorflow as tf\n",
    "(x_train, y_train), (x_test, y_test) = tf.keras.datasets.mnist.load_data()"
   ]
  },
  {
   "cell_type": "code",
   "execution_count": 3,
   "metadata": {},
   "outputs": [
    {
     "name": "stdout",
     "output_type": "stream",
     "text": [
      "Shape of un-processed training dataset = (60000, 28, 28)\n",
      "Shape of un-processed test dataset = (10000, 28, 28)\n"
     ]
    }
   ],
   "source": [
    "print(\"Shape of un-processed training dataset = \" + str(x_train.shape))\n",
    "print(\"Shape of un-processed test dataset = \" + str(x_test.shape))"
   ]
  },
  {
   "cell_type": "code",
   "execution_count": 4,
   "metadata": {},
   "outputs": [],
   "source": [
    "x_train = x_train.reshape(x_train.shape[0], 28, 28, 1)\n",
    "x_test = x_test.reshape(x_test.shape[0], 28, 28, 1)\n",
    "input_shape = (28,28,1)"
   ]
  },
  {
   "cell_type": "code",
   "execution_count": 5,
   "metadata": {},
   "outputs": [
    {
     "name": "stdout",
     "output_type": "stream",
     "text": [
      "Shape of processed training dataset = (60000, 28, 28, 1)\n",
      "Shape of processed test dataset = (10000, 28, 28, 1)\n"
     ]
    }
   ],
   "source": [
    "print(\"Shape of processed training dataset = \" + str(x_train.shape))\n",
    "print(\"Shape of processed test dataset = \" + str(x_test.shape))"
   ]
  },
  {
   "cell_type": "code",
   "execution_count": 6,
   "metadata": {},
   "outputs": [],
   "source": [
    "x_train = x_train.astype('float32')\n",
    "x_test = x_test.astype('float32')"
   ]
  },
  {
   "cell_type": "code",
   "execution_count": 7,
   "metadata": {},
   "outputs": [
    {
     "name": "stdout",
     "output_type": "stream",
     "text": [
      "Train: X=(60000, 28, 28, 1), y=(60000,)\n",
      "Test: X=(10000, 28, 28, 1), y=(10000,)\n"
     ]
    },
    {
     "data": {
      "image/png": "[encoded data removed]",
      "text/plain": [
       "<Figure size 432x288 with 9 Axes>"
      ]
     },
     "metadata": {
      "needs_background": "light"
     },
     "output_type": "display_data"
    }
   ],
   "source": [
    "from matplotlib import pyplot\n",
    "\n",
    "print('Train: X=%s, y=%s' % (x_train.shape, y_train.shape))\n",
    "print('Test: X=%s, y=%s' % (x_test.shape, y_test.shape))\n",
    "\n",
    "for i in range(9):\n",
    "    # define subplot\n",
    "    pyplot.subplot(330 + 1 + i)\n",
    "    # plot raw pixel data\n",
    "    pyplot.imshow(x_train[i].reshape(28, 28), cmap='Greys')\n",
    "# show the figure\n",
    "pyplot.show()"
   ]
  },
  {
   "cell_type": "code",
   "execution_count": 6,
   "metadata": {},
   "outputs": [],
   "source": [
    "from tensorflow.keras.models import Sequential\n",
    "from tensorflow.keras.layers import Conv2D, MaxPooling2D, Dense, Dropout, Flatten"
   ]
  },
  {
   "cell_type": "code",
   "execution_count": 7,
   "metadata": {},
   "outputs": [],
   "source": [
    "model = Sequential()\n",
    "model.add(Conv2D(28, kernel_size = (3,3), input_shape = input_shape))\n",
    "model.add(MaxPooling2D(pool_size = (2,2)))\n",
    "model.add(Conv2D(24, kernel_size = (3,3), input_shape = (13,13)))\n",
    "model.add(Flatten())\n",
    "model.add(Dense(128, activation = tf.nn.relu))\n",
    "model.add(Dense(64, activation = tf.nn.relu))\n",
    "model.add(Dense(32, activation = tf.nn.relu))\n",
    "model.add(Dense(16, activation = tf.nn.relu))\n",
    "model.add(Dense(10, activation = tf.nn.softmax))"
   ]
  },
  {
   "cell_type": "code",
   "execution_count": 8,
   "metadata": {},
   "outputs": [
    {
     "name": "stdout",
     "output_type": "stream",
     "text": [
      "Model: \"sequential\"\n",
      "_________________________________________________________________\n",
      "Layer (type)                 Output Shape              Param #   \n",
      "=================================================================\n",
      "conv2d (Conv2D)              (None, 26, 26, 28)        280       \n",
      "_________________________________________________________________\n",
      "max_pooling2d (MaxPooling2D) (None, 13, 13, 28)        0         \n",
      "_________________________________________________________________\n",
      "conv2d_1 (Conv2D)            (None, 11, 11, 24)        6072      \n",
      "_________________________________________________________________\n",
      "flatten (Flatten)            (None, 2904)              0         \n",
      "_________________________________________________________________\n",
      "dense (Dense)                (None, 128)               371840    \n",
      "_________________________________________________________________\n",
      "dense_1 (Dense)              (None, 64)                8256      \n",
      "_________________________________________________________________\n",
      "dense_2 (Dense)              (None, 32)                2080      \n",
      "_________________________________________________________________\n",
      "dense_3 (Dense)              (None, 16)                528       \n",
      "_________________________________________________________________\n",
      "dense_4 (Dense)              (None, 10)                170       \n",
      "=================================================================\n",
      "Total params: 389,226\n",
      "Trainable params: 389,226\n",
      "Non-trainable params: 0\n",
      "_________________________________________________________________\n"
     ]
    }
   ],
   "source": [
    "model.summary()"
   ]
  },
  {
   "cell_type": "code",
   "execution_count": 9,
   "metadata": {},
   "outputs": [
    {
     "name": "stdout",
     "output_type": "stream",
     "text": [
      "Epoch 1/30\n",
      "1875/1875 [==============================] - 23s 12ms/step - loss: 0.3885 - accuracy: 0.8927\n",
      "Epoch 2/30\n",
      "1875/1875 [==============================] - 23s 12ms/step - loss: 0.1291 - accuracy: 0.9664\n",
      "Epoch 3/30\n",
      "1875/1875 [==============================] - 23s 12ms/step - loss: 0.0970 - accuracy: 0.9750\n",
      "Epoch 4/30\n",
      "1875/1875 [==============================] - 23s 12ms/step - loss: 0.0838 - accuracy: 0.97750s - loss: 0.0839 - ac\n",
      "Epoch 5/30\n",
      "1875/1875 [==============================] - 24s 13ms/step - loss: 0.0679 - accuracy: 0.9825\n",
      "Epoch 6/30\n",
      "1875/1875 [==============================] - 24s 13ms/step - loss: 0.0608 - accuracy: 0.9845\n",
      "Epoch 7/30\n",
      "1875/1875 [==============================] - 24s 13ms/step - loss: 0.0535 - accuracy: 0.9865\n",
      "Epoch 8/30\n",
      "1875/1875 [==============================] - 26s 14ms/step - loss: 0.0478 - accuracy: 0.98791s\n",
      "Epoch 9/30\n",
      "1875/1875 [==============================] - 24s 13ms/step - loss: 0.0421 - accuracy: 0.9895\n",
      "Epoch 10/30\n",
      "1875/1875 [==============================] - 24s 13ms/step - loss: 0.0369 - accuracy: 0.9906\n",
      "Epoch 11/30\n",
      "1875/1875 [==============================] - 26s 14ms/step - loss: 0.0363 - accuracy: 0.9913\n",
      "Epoch 12/30\n",
      "1875/1875 [==============================] - 27s 14ms/step - loss: 0.0347 - accuracy: 0.9917\n",
      "Epoch 13/30\n",
      "1875/1875 [==============================] - 27s 14ms/step - loss: 0.0333 - accuracy: 0.9920\n",
      "Epoch 14/30\n",
      "1875/1875 [==============================] - 26s 14ms/step - loss: 0.0342 - accuracy: 0.9922\n",
      "Epoch 15/30\n",
      "1875/1875 [==============================] - 25s 13ms/step - loss: 0.0292 - accuracy: 0.9933\n",
      "Epoch 16/30\n",
      "1875/1875 [==============================] - 25s 13ms/step - loss: 0.0269 - accuracy: 0.9941\n",
      "Epoch 17/30\n",
      "1875/1875 [==============================] - 23s 12ms/step - loss: 0.0260 - accuracy: 0.9940\n",
      "Epoch 18/30\n",
      "1875/1875 [==============================] - 24s 13ms/step - loss: 0.0268 - accuracy: 0.9942\n",
      "Epoch 19/30\n",
      "1875/1875 [==============================] - 24s 13ms/step - loss: 0.0282 - accuracy: 0.9942\n",
      "Epoch 20/30\n",
      "1875/1875 [==============================] - 24s 13ms/step - loss: 0.0306 - accuracy: 0.9940\n",
      "Epoch 21/30\n",
      "1875/1875 [==============================] - 25s 13ms/step - loss: 0.0266 - accuracy: 0.9943\n",
      "Epoch 22/30\n",
      "1875/1875 [==============================] - 25s 13ms/step - loss: 0.0221 - accuracy: 0.9953\n",
      "Epoch 23/30\n",
      "1875/1875 [==============================] - 25s 13ms/step - loss: 0.0294 - accuracy: 0.9944\n",
      "Epoch 24/30\n",
      "1875/1875 [==============================] - 24s 13ms/step - loss: 0.0196 - accuracy: 0.9958\n",
      "Epoch 25/30\n",
      "1875/1875 [==============================] - 23s 12ms/step - loss: 0.0290 - accuracy: 0.9950\n",
      "Epoch 26/30\n",
      "1875/1875 [==============================] - 23s 12ms/step - loss: 0.0301 - accuracy: 0.9941\n",
      "Epoch 27/30\n",
      "1875/1875 [==============================] - 24s 13ms/step - loss: 0.0279 - accuracy: 0.9941\n",
      "Epoch 28/30\n",
      "1875/1875 [==============================] - 24s 13ms/step - loss: 0.0181 - accuracy: 0.9963\n",
      "Epoch 29/30\n",
      "1875/1875 [==============================] - 25s 13ms/step - loss: 0.0347 - accuracy: 0.99440s - loss: 0.035\n",
      "Epoch 30/30\n",
      "1875/1875 [==============================] - 24s 13ms/step - loss: 0.0220 - accuracy: 0.9964\n"
     ]
    }
   ],
   "source": [
    "model.compile(optimizer = 'adam', loss = 'sparse_categorical_crossentropy', metrics = ['accuracy'])\n",
    "history = model.fit(x = x_train, y = y_train, epochs = 30)"
   ]
  },
  {
   "cell_type": "code",
   "execution_count": 10,
   "metadata": {},
   "outputs": [
    {
     "name": "stdout",
     "output_type": "stream",
     "text": [
      "313/313 [==============================] - 1s 4ms/step - loss: 0.1161 - accuracy: 0.9858\n"
     ]
    },
    {
     "data": {
      "text/plain": [
       "[0.11606305837631226, 0.98580002784729]"
      ]
     },
     "execution_count": 10,
     "metadata": {},
     "output_type": "execute_result"
    }
   ],
   "source": [
    "model.evaluate(x_test, y_test)"
   ]
  },
  {
   "cell_type": "code",
   "execution_count": 16,
   "metadata": {},
   "outputs": [
    {
     "name": "stdout",
     "output_type": "stream",
     "text": [
      "INFO:tensorflow:Assets written to: MODEL\\assets\n"
     ]
    }
   ],
   "source": [
    "model.save(\"MODEL\")"
   ]
  },
  {
   "cell_type": "code",
   "execution_count": 8,
   "metadata": {},
   "outputs": [],
   "source": [
    "from keras.models import load_model\n",
    "\n",
    "\n",
    "model1 = load_model('MODEL')"
   ]
  },
  {
   "cell_type": "code",
   "execution_count": 10,
   "metadata": {},
   "outputs": [
    {
     "name": "stdout",
     "output_type": "stream",
     "text": [
      "(28, 28, 1)\n"
     ]
    },
    {
     "data": {
      "image/png": "[encoded data removed]",
      "text/plain": [
       "<Figure size 432x288 with 1 Axes>"
      ]
     },
     "metadata": {
      "needs_background": "light"
     },
     "output_type": "display_data"
    },
    {
     "name": "stdout",
     "output_type": "stream",
     "text": [
      "\n",
      "\n",
      "\n",
      "\n",
      "Prediction = 8\n"
     ]
    }
   ],
   "source": [
    "import tensorflow as tf\n",
    "import matplotlib.pyplot as plt\n",
    "\n",
    "\n",
    "(x_train, y_train), (x_test, y_test) = tf.keras.datasets.mnist.load_data()\n",
    "\n",
    "x_test = x_test.reshape(x_test.shape[0], 28, 28, 1)\n",
    "\n",
    "image_index = 998\n",
    "print(x_test[image_index].shape)\n",
    "plt.imshow(x_test[image_index].reshape(28, 28), cmap='Greys')\n",
    "plt.show()\n",
    "pred = model1.predict(x_test[image_index].reshape(1,28,28,1))\n",
    "print(\"\\n\\n\\n\\nPrediction = \" + str(pred.argmax()))"
   ]
  }
 ],
 "metadata": {
  "kernelspec": {
   "display_name": "Python 3",
   "language": "python",
   "name": "python3"
  },
  "language_info": {
   "codemirror_mode": {
    "name": "ipython",
    "version": 3
   },
   "file_extension": ".py",
   "mimetype": "text/x-python",
   "name": "python",
   "nbconvert_exporter": "python",
   "pygments_lexer": "ipython3",
   "version": "3.7.4"
  }
 },
 "nbformat": 4,
 "nbformat_minor": 2
}
